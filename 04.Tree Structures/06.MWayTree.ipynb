{
 "cells": [
  {
   "cell_type": "code",
   "execution_count": 1,
   "outputs": [],
   "source": [
    "class Node:\n",
    "    def __init__(self, t):\n",
    "        self.keys = []\n",
    "        self.child = []\n",
    "        self.leaf = True"
   ],
   "metadata": {
    "collapsed": false,
    "ExecuteTime": {
     "start_time": "2023-07-22T21:38:59.252043Z",
     "end_time": "2023-07-22T21:38:59.256616Z"
    }
   }
  },
  {
   "cell_type": "code",
   "execution_count": 5,
   "outputs": [
    {
     "ename": "TypeError",
     "evalue": "unsupported operand type(s) for *: 'int' and 'MWayTree'",
     "output_type": "error",
     "traceback": [
      "\u001B[0;31m---------------------------------------------------------------------------\u001B[0m",
      "\u001B[0;31mTypeError\u001B[0m                                 Traceback (most recent call last)",
      "Cell \u001B[0;32mIn[5], line 76\u001B[0m\n\u001B[1;32m     74\u001B[0m t \u001B[38;5;241m=\u001B[39m MWayTree(\u001B[38;5;241m3\u001B[39m)\n\u001B[1;32m     75\u001B[0m \u001B[38;5;28;01mfor\u001B[39;00m i \u001B[38;5;129;01min\u001B[39;00m \u001B[38;5;28mrange\u001B[39m(\u001B[38;5;241m10\u001B[39m):\n\u001B[0;32m---> 76\u001B[0m     \u001B[43mt\u001B[49m\u001B[38;5;241;43m.\u001B[39;49m\u001B[43minsert\u001B[49m\u001B[43m(\u001B[49m\u001B[43mi\u001B[49m\u001B[43m)\u001B[49m\n\u001B[1;32m     77\u001B[0m t\u001B[38;5;241m.\u001B[39mprint_tree(t\u001B[38;5;241m.\u001B[39mroot)\n",
      "Cell \u001B[0;32mIn[5], line 7\u001B[0m, in \u001B[0;36mMWayTree.insert\u001B[0;34m(self, k)\u001B[0m\n\u001B[1;32m      5\u001B[0m \u001B[38;5;28;01mdef\u001B[39;00m \u001B[38;5;21minsert\u001B[39m(\u001B[38;5;28mself\u001B[39m, k):\n\u001B[1;32m      6\u001B[0m     root \u001B[38;5;241m=\u001B[39m \u001B[38;5;28mself\u001B[39m\u001B[38;5;241m.\u001B[39mroot\n\u001B[0;32m----> 7\u001B[0m     \u001B[38;5;28;01mif\u001B[39;00m \u001B[38;5;28mlen\u001B[39m(root\u001B[38;5;241m.\u001B[39mkeys) \u001B[38;5;241m==\u001B[39m (\u001B[38;5;241;43m2\u001B[39;49m\u001B[43m \u001B[49m\u001B[38;5;241;43m*\u001B[39;49m\u001B[43m \u001B[49m\u001B[43mt\u001B[49m) \u001B[38;5;241m-\u001B[39m \u001B[38;5;241m1\u001B[39m:\n\u001B[1;32m      8\u001B[0m         temp \u001B[38;5;241m=\u001B[39m Node(t)\n\u001B[1;32m      9\u001B[0m         temp\u001B[38;5;241m.\u001B[39mchild\u001B[38;5;241m.\u001B[39minsert(\u001B[38;5;241m0\u001B[39m, root)\n",
      "\u001B[0;31mTypeError\u001B[0m: unsupported operand type(s) for *: 'int' and 'MWayTree'"
     ]
    }
   ],
   "source": [
    "class MWayTree:\n",
    "    def __init__(self, t):\n",
    "        self.root = Node(t)\n",
    "    # Insert node\n",
    "    def insert(self, k):\n",
    "        root = self.root\n",
    "        if len(root.keys) == (2 * t) - 1:\n",
    "            temp = Node(t)\n",
    "            temp.child.insert(0, root)\n",
    "            self.split_child(temp, 0)\n",
    "            self.insert_non_full(temp, k)\n",
    "            self.root = temp\n",
    "        else:\n",
    "            self.insert_non_full(root, k)\n",
    "\n",
    "    # Insert nonfull\n",
    "    def insert_non_full(self, x, k):\n",
    "        i = len(x.keys) - 1\n",
    "        if x.leaf:\n",
    "            x.keys.append((None, None))\n",
    "            while i >= 0 and k < x.keys[i]:\n",
    "                x.keys[i + 1] = x.keys[i]\n",
    "                i -= 1\n",
    "            x.keys[i + 1] = k\n",
    "        else:\n",
    "            while i >= 0 and k < x.keys[i]:\n",
    "                i -= 1\n",
    "            i += 1\n",
    "            if len(x.child[i].keys) == (2 * t) - 1:\n",
    "                self.split_child(x, i)\n",
    "                if k > x.keys[i]:\n",
    "                    i += 1\n",
    "            self.insert_non_full(x.child[i], k)\n",
    "\n",
    "    # Split the child\n",
    "    def split_child(self, i, x):\n",
    "        t = self.root.t\n",
    "        y = i.child[x]\n",
    "        z = Node(t)\n",
    "        i.child.insert(x + 1, z)\n",
    "        i.keys.insert(x, y.keys[t - 1])\n",
    "        z.keys = y.keys[t: (2 * t) - 1]\n",
    "        y.keys = y.keys[0: t - 1]\n",
    "        if not y.leaf:\n",
    "            z.child = y.child[t: 2 * t]\n",
    "            y.child = y.child[0: t - 1]\n",
    "\n",
    "    # Print the tree\n",
    "    def print_tree(self, x, l=0):\n",
    "        print(\"Level \", l, \" \", len(x.keys), end=\":\")\n",
    "        for i in x.keys:\n",
    "            print(i, end=\" \")\n",
    "        print()\n",
    "        l += 1\n",
    "        if len(x.child) > 0:\n",
    "            for i in x.child:\n",
    "                self.print_tree(i, l)\n",
    "\n",
    "    # Search key in the tree\n",
    "    def search_key(self, k, x=None):\n",
    "        if x is not None:\n",
    "            i = 0\n",
    "            while i < len(x.keys) and k > x.keys[i]:\n",
    "                i += 1\n",
    "            if i < len(x.keys) and k == x.keys[i]:\n",
    "                return (x, i)\n",
    "            elif len(x.child) > 0:\n",
    "                return self.search_key(k, x.child[i])\n",
    "        else:\n",
    "            return self.search_key(k, self.root)\n",
    "        return None\n",
    "\n",
    "# Driver Code\n",
    "t = MWayTree(3)\n",
    "for i in range(10):\n",
    "    t.insert(i)\n",
    "t.print_tree(t.root)\n"
   ],
   "metadata": {
    "collapsed": false,
    "ExecuteTime": {
     "start_time": "2023-07-22T21:38:59.257592Z",
     "end_time": "2023-07-22T21:38:59.259743Z"
    }
   }
  },
  {
   "cell_type": "code",
   "execution_count": 4,
   "outputs": [
    {
     "ename": "IndentationError",
     "evalue": "expected an indented block after 'for' statement on line 72 (1401485894.py, line 73)",
     "output_type": "error",
     "traceback": [
      "\u001B[0;36m  Cell \u001B[0;32mIn[4], line 73\u001B[0;36m\u001B[0m\n\u001B[0;31m    t.insert(i)\u001B[0m\n\u001B[0m    ^\u001B[0m\n\u001B[0;31mIndentationError\u001B[0m\u001B[0;31m:\u001B[0m expected an indented block after 'for' statement on line 72\n"
     ]
    }
   ],
   "source": [],
   "metadata": {
    "collapsed": false
   }
  },
  {
   "cell_type": "code",
   "execution_count": null,
   "outputs": [],
   "source": [],
   "metadata": {
    "collapsed": false
   }
  }
 ],
 "metadata": {
  "kernelspec": {
   "display_name": "Python 3",
   "language": "python",
   "name": "python3"
  },
  "language_info": {
   "codemirror_mode": {
    "name": "ipython",
    "version": 2
   },
   "file_extension": ".py",
   "mimetype": "text/x-python",
   "name": "python",
   "nbconvert_exporter": "python",
   "pygments_lexer": "ipython2",
   "version": "2.7.6"
  }
 },
 "nbformat": 4,
 "nbformat_minor": 0
}
