{
 "cells": [
  {
   "cell_type": "code",
   "execution_count": 1,
   "metadata": {
    "collapsed": true,
    "ExecuteTime": {
     "start_time": "2023-07-20T09:22:59.738129Z",
     "end_time": "2023-07-20T09:22:59.744494Z"
    }
   },
   "outputs": [],
   "source": [
    "def quick_sort(arr):\n",
    "    # Check if the array is empty or has only one element (base case)\n",
    "    if len(arr) <= 1:\n",
    "        return arr\n",
    "\n",
    "    # Select a pivot element (can be any element, but we'll choose the last element)\n",
    "    pivot = arr[-1]\n",
    "\n",
    "    # Initialize the left and right subarrays\n",
    "    left = []\n",
    "    right = []\n",
    "\n",
    "    # Partition the array into two subarrays based on the pivot\n",
    "    for i in range(len(arr) - 1):\n",
    "        if arr[i] < pivot:\n",
    "            left.append(arr[i])\n",
    "        else:\n",
    "            right.append(arr[i])\n",
    "\n",
    "    # Recursively apply quick sort on the left and right subarrays\n",
    "    left_sorted = quick_sort(left)\n",
    "    right_sorted = quick_sort(right)\n",
    "\n",
    "    # Combine the sorted subarrays and the pivot to obtain the final sorted array\n",
    "    return left_sorted + [pivot] + right_sorted"
   ]
  },
  {
   "cell_type": "code",
   "execution_count": 2,
   "outputs": [
    {
     "name": "stdout",
     "output_type": "stream",
     "text": [
      "[1, 2, 3, 5, 6, 9]\n"
     ]
    }
   ],
   "source": [
    "array = [6, 2, 9, 1, 5, 3]\n",
    "sorted_array = quick_sort(array)\n",
    "print(sorted_array)"
   ],
   "metadata": {
    "collapsed": false,
    "ExecuteTime": {
     "start_time": "2023-07-20T09:22:59.743926Z",
     "end_time": "2023-07-20T09:22:59.750884Z"
    }
   }
  }
 ],
 "metadata": {
  "kernelspec": {
   "display_name": "Python 3",
   "language": "python",
   "name": "python3"
  },
  "language_info": {
   "codemirror_mode": {
    "name": "ipython",
    "version": 2
   },
   "file_extension": ".py",
   "mimetype": "text/x-python",
   "name": "python",
   "nbconvert_exporter": "python",
   "pygments_lexer": "ipython2",
   "version": "2.7.6"
  }
 },
 "nbformat": 4,
 "nbformat_minor": 0
}
