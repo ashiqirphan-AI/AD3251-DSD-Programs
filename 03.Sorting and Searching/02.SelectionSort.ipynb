{
 "cells": [
  {
   "cell_type": "code",
   "execution_count": 1,
   "metadata": {
    "collapsed": true,
    "ExecuteTime": {
     "start_time": "2023-07-07T06:36:58.515921Z",
     "end_time": "2023-07-07T06:36:58.519993Z"
    }
   },
   "outputs": [],
   "source": [
    "def selection_sort(arr):\n",
    "    n = len(arr)\n",
    "\n",
    "    for i in range(n-1):\n",
    "        # Find the minimum element in the unsorted part of the list\n",
    "        min_index = i\n",
    "        for j in range(i+1, n):\n",
    "            if arr[j] < arr[min_index]:\n",
    "                min_index = j\n",
    "\n",
    "        # Swap the minimum element with the current position\n",
    "        arr[i], arr[min_index] = arr[min_index], arr[i]\n",
    "\n",
    "    return arr"
   ]
  },
  {
   "cell_type": "code",
   "execution_count": 2,
   "outputs": [
    {
     "name": "stdout",
     "output_type": "stream",
     "text": [
      "[1, 2, 3, 5, 8]\n"
     ]
    }
   ],
   "source": [
    "numbers = [5, 2, 8, 3, 1]\n",
    "sorted_numbers = selection_sort(numbers)\n",
    "print(sorted_numbers)  # Output: [1, 2, 3, 5, 8]"
   ],
   "metadata": {
    "collapsed": false,
    "ExecuteTime": {
     "start_time": "2023-07-07T06:36:58.520828Z",
     "end_time": "2023-07-07T06:36:58.523964Z"
    }
   }
  }
 ],
 "metadata": {
  "kernelspec": {
   "display_name": "Python 3",
   "language": "python",
   "name": "python3"
  },
  "language_info": {
   "codemirror_mode": {
    "name": "ipython",
    "version": 2
   },
   "file_extension": ".py",
   "mimetype": "text/x-python",
   "name": "python",
   "nbconvert_exporter": "python",
   "pygments_lexer": "ipython2",
   "version": "2.7.6"
  }
 },
 "nbformat": 4,
 "nbformat_minor": 0
}
