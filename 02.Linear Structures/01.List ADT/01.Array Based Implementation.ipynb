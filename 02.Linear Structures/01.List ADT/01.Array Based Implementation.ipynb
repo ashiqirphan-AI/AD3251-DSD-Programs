{
 "cells": [
  {
   "cell_type": "markdown",
   "source": [
    "# Array Based Implementation of List ADT\n",
    "## Creating a class 'ArrayList' and defining the various operations"
   ],
   "metadata": {
    "collapsed": false
   }
  },
  {
   "cell_type": "code",
   "execution_count": 10,
   "metadata": {
    "collapsed": true,
    "ExecuteTime": {
     "start_time": "2023-06-07T11:19:39.337947Z",
     "end_time": "2023-06-07T11:19:39.341814Z"
    }
   },
   "outputs": [],
   "source": [
    "class ArrayList:\n",
    "    def __init__(self):\n",
    "        self.array = []  # Initialize an empty array\n",
    "\n",
    "    def is_empty(self):\n",
    "        return len(self.array) == 0\n",
    "\n",
    "    def size(self):\n",
    "        return len(self.array)\n",
    "\n",
    "    def append(self, element):\n",
    "        self.array.append(element)\n",
    "\n",
    "    def insert(self, index, element):\n",
    "        self.array.insert(index, element)\n",
    "\n",
    "    def remove(self, element):\n",
    "        self.array.remove(element)\n",
    "\n",
    "    def get(self, index):\n",
    "        return self.array[index]\n",
    "\n",
    "    def set(self, index, element):\n",
    "        self.array[index] = element\n",
    "\n",
    "    def display(self):\n",
    "        print(self.array)"
   ]
  },
  {
   "cell_type": "markdown",
   "source": [
    "## Usage of ArrayList"
   ],
   "metadata": {
    "collapsed": false
   }
  },
  {
   "cell_type": "code",
   "execution_count": 11,
   "outputs": [
    {
     "name": "stdout",
     "output_type": "stream",
     "text": [
      "True\n",
      "[10, 20, 30]\n",
      "[10, 15, 20, 30]\n",
      "[10, 15, 30]\n",
      "10\n",
      "[10, 15, 25]\n"
     ]
    }
   ],
   "source": [
    "list1 = ArrayList()\n",
    "\n",
    "print(list1.is_empty())  # Output: True\n",
    "\n",
    "list1.append(10)\n",
    "list1.append(20)\n",
    "list1.append(30)\n",
    "list1.display()  # Output: [10, 20, 30]\n",
    "\n",
    "list1.insert(1, 15)\n",
    "list1.display()  # Output: [10, 15, 20, 30]\n",
    "\n",
    "print(list1.size())\n",
    "\n",
    "list1.remove(20)\n",
    "list1.display()  # Output: [10, 15, 30]\n",
    "\n",
    "print(list1.get(0))  # Output: 10\n",
    "\n",
    "list1.set(2, 25)\n",
    "list1.display()  # Output: [10, 15, 25]"
   ],
   "metadata": {
    "collapsed": false,
    "ExecuteTime": {
     "start_time": "2023-06-07T11:19:39.342630Z",
     "end_time": "2023-06-07T11:19:39.344425Z"
    }
   }
  }
 ],
 "metadata": {
  "kernelspec": {
   "display_name": "Python 3",
   "language": "python",
   "name": "python3"
  },
  "language_info": {
   "codemirror_mode": {
    "name": "ipython",
    "version": 2
   },
   "file_extension": ".py",
   "mimetype": "text/x-python",
   "name": "python",
   "nbconvert_exporter": "python",
   "pygments_lexer": "ipython2",
   "version": "2.7.6"
  }
 },
 "nbformat": 4,
 "nbformat_minor": 0
}
