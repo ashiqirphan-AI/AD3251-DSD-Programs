{
 "cells": [
  {
   "cell_type": "markdown",
   "source": [
    "# Linked List Implementation of List ADT\n",
    "Three different types of linked list implementations of List ADT are as follows\n",
    "1. Singly Linked List\n",
    "2. Doubly Linked List\n",
    "3. Circularly Linked List"
   ],
   "metadata": {
    "collapsed": false
   }
  },
  {
   "cell_type": "markdown",
   "source": [
    "## Singly Linked List\n",
    "### Class definition\n",
    "Two classes named 'Node' and 'LinkedList' are defined"
   ],
   "metadata": {
    "collapsed": false
   }
  },
  {
   "cell_type": "code",
   "execution_count": 2,
   "metadata": {
    "collapsed": true,
    "ExecuteTime": {
     "start_time": "2023-06-07T09:30:30.375028Z",
     "end_time": "2023-06-07T09:30:30.377175Z"
    }
   },
   "outputs": [],
   "source": [
    "class Node:\n",
    "    def __init__(self, data):\n",
    "        self.data = data\n",
    "        self.next = None\n",
    "\n",
    "\n",
    "class LinkedList:\n",
    "    def __init__(self):\n",
    "        self.head = None\n",
    "\n",
    "    def is_empty(self):\n",
    "        return self.head is None\n",
    "\n",
    "    def size(self):\n",
    "        count = 0\n",
    "        current = self.head\n",
    "        while current:\n",
    "            count += 1\n",
    "            current = current.next\n",
    "        return count\n",
    "\n",
    "    def append(self, data):\n",
    "        new_node = Node(data)\n",
    "        if self.is_empty():\n",
    "            self.head = new_node\n",
    "        else:\n",
    "            current = self.head\n",
    "            while current.next:\n",
    "                current = current.next\n",
    "            current.next = new_node\n",
    "\n",
    "    def insert(self, index, data):\n",
    "        if index < 0 or index > self.size():\n",
    "            raise IndexError(\"Invalid index\")\n",
    "        new_node = Node(data)\n",
    "        if index == 0:\n",
    "            new_node.next = self.head\n",
    "            self.head = new_node\n",
    "        else:\n",
    "            current = self.head\n",
    "            for _ in range(index - 1):\n",
    "                current = current.next\n",
    "            new_node.next = current.next\n",
    "            current.next = new_node\n",
    "\n",
    "    def remove(self, data):\n",
    "        if self.is_empty():\n",
    "            raise ValueError(\"List is empty\")\n",
    "        if self.head.data == data:\n",
    "            self.head = self.head.next\n",
    "        else:\n",
    "            current = self.head\n",
    "            while current.next and current.next.data != data:\n",
    "                current = current.next\n",
    "            if current.next:\n",
    "                current.next = current.next.next\n",
    "            else:\n",
    "                raise ValueError(\"Element not found in the list\")\n",
    "\n",
    "    def get(self, index):\n",
    "        if index < 0 or index >= self.size():\n",
    "            raise IndexError(\"Invalid index\")\n",
    "        current = self.head\n",
    "        for _ in range(index):\n",
    "            current = current.next\n",
    "        return current.data\n",
    "\n",
    "    def set(self, index, data):\n",
    "        if index < 0 or index >= self.size():\n",
    "            raise IndexError(\"Invalid index\")\n",
    "        current = self.head\n",
    "        for _ in range(index):\n",
    "            current = current.next\n",
    "        current.data = data\n",
    "\n",
    "    def display(self):\n",
    "        elements = []\n",
    "        current = self.head\n",
    "        while current:\n",
    "            elements.append(current.data)\n",
    "            current = current.next\n",
    "        print(elements)"
   ]
  },
  {
   "cell_type": "markdown",
   "source": [
    "# Implementation of Operations"
   ],
   "metadata": {
    "collapsed": false
   }
  },
  {
   "cell_type": "code",
   "execution_count": null,
   "outputs": [],
   "source": [
    "# Create an empty linked list\n",
    "my_list = LinkedList()\n",
    "\n",
    "# Append elements\n",
    "my_list.append(10)\n",
    "my_list.append(20)\n",
    "my_list.append(30)\n",
    "\n",
    "# Insert an element at a specific position\n",
    "my_list.insert(1, 15)\n",
    "\n",
    "# Display the list\n",
    "my_list.display()  # Output: [10, 15, 20, 30]\n",
    "\n",
    "# Remove an element\n",
    "my_list.remove(20)\n",
    "\n",
    "# Access an element at a given index\n",
    "print(my_list.get(2))  # Output: 30\n",
    "\n",
    "# Modify an element at a given index\n",
    "my_list.set(0, 5)\n",
    "\n",
    "# Check if the list is empty\n",
    "print(my_list.is_empty())  # Output: False\n",
    "\n",
    "# Display the final list\n",
    "my_list.display()  # Output: [5, 15, 30]"
   ],
   "metadata": {
    "collapsed": false
   }
  }
 ],
 "metadata": {
  "kernelspec": {
   "display_name": "Python 3",
   "language": "python",
   "name": "python3"
  },
  "language_info": {
   "codemirror_mode": {
    "name": "ipython",
    "version": 2
   },
   "file_extension": ".py",
   "mimetype": "text/x-python",
   "name": "python",
   "nbconvert_exporter": "python",
   "pygments_lexer": "ipython2",
   "version": "2.7.6"
  }
 },
 "nbformat": 4,
 "nbformat_minor": 0
}
