{
 "cells": [
  {
   "cell_type": "markdown",
   "source": [
    "# Linked List Implementation of List ADT\n",
    "Three different types of linked list implementations of List ADT are as follows\n",
    "1. Singly Linked List\n",
    "2. Circularly Linked List\n",
    "3. Doubly Linked List"
   ],
   "metadata": {
    "collapsed": false
   }
  },
  {
   "cell_type": "markdown",
   "source": [
    "## Singly Linked List\n",
    "### Class definition\n",
    "Two classes named 'Node' and 'LinkedList' are defined"
   ],
   "metadata": {
    "collapsed": false
   }
  },
  {
   "cell_type": "code",
   "execution_count": 3,
   "metadata": {
    "collapsed": true,
    "ExecuteTime": {
     "start_time": "2023-06-07T09:45:24.403979Z",
     "end_time": "2023-06-07T09:45:24.435111Z"
    }
   },
   "outputs": [],
   "source": [
    "class Node:\n",
    "    def __init__(self, data):\n",
    "        self.data = data\n",
    "        self.next = None\n",
    "\n",
    "\n",
    "class LinkedList:\n",
    "    def __init__(self):\n",
    "        self.head = None\n",
    "\n",
    "    def is_empty(self):\n",
    "        return self.head is None\n",
    "\n",
    "    def size(self):\n",
    "        count = 0\n",
    "        current = self.head\n",
    "        while current:\n",
    "            count += 1\n",
    "            current = current.next\n",
    "        return count\n",
    "\n",
    "    def append(self, data):\n",
    "        new_node = Node(data)\n",
    "        if self.is_empty():\n",
    "            self.head = new_node\n",
    "        else:\n",
    "            current = self.head\n",
    "            while current.next:\n",
    "                current = current.next\n",
    "            current.next = new_node\n",
    "\n",
    "    def insert(self, index, data):\n",
    "        if index < 0 or index > self.size():\n",
    "            raise IndexError(\"Invalid index\")\n",
    "        new_node = Node(data)\n",
    "        if index == 0:\n",
    "            new_node.next = self.head\n",
    "            self.head = new_node\n",
    "        else:\n",
    "            current = self.head\n",
    "            for _ in range(index - 1):\n",
    "                current = current.next\n",
    "            new_node.next = current.next\n",
    "            current.next = new_node\n",
    "\n",
    "    def remove(self, data):\n",
    "        if self.is_empty():\n",
    "            raise ValueError(\"List is empty\")\n",
    "        if self.head.data == data:\n",
    "            self.head = self.head.next\n",
    "        else:\n",
    "            current = self.head\n",
    "            while current.next and current.next.data != data:\n",
    "                current = current.next\n",
    "            if current.next:\n",
    "                current.next = current.next.next\n",
    "            else:\n",
    "                raise ValueError(\"Element not found in the list\")\n",
    "\n",
    "    def get(self, index):\n",
    "        if index < 0 or index >= self.size():\n",
    "            raise IndexError(\"Invalid index\")\n",
    "        current = self.head\n",
    "        for _ in range(index):\n",
    "            current = current.next\n",
    "        return current.data\n",
    "\n",
    "    def set(self, index, data):\n",
    "        if index < 0 or index >= self.size():\n",
    "            raise IndexError(\"Invalid index\")\n",
    "        current = self.head\n",
    "        for _ in range(index):\n",
    "            current = current.next\n",
    "        current.data = data\n",
    "\n",
    "    def display(self):\n",
    "        elements = []\n",
    "        current = self.head\n",
    "        while current:\n",
    "            elements.append(current.data)\n",
    "            current = current.next\n",
    "        print(elements)"
   ]
  },
  {
   "cell_type": "markdown",
   "source": [
    "# Implementation of Singly Linked List Operations"
   ],
   "metadata": {
    "collapsed": false
   }
  },
  {
   "cell_type": "code",
   "execution_count": 4,
   "outputs": [
    {
     "name": "stdout",
     "output_type": "stream",
     "text": [
      "[10, 15, 20, 30]\n",
      "30\n",
      "False\n",
      "[5, 15, 30]\n"
     ]
    }
   ],
   "source": [
    "# Create an empty linked list\n",
    "my_list = LinkedList()\n",
    "\n",
    "# Append elements\n",
    "my_list.append(10)\n",
    "my_list.append(20)\n",
    "my_list.append(30)\n",
    "\n",
    "# Insert an element at a specific position\n",
    "my_list.insert(1, 15)\n",
    "\n",
    "# Display the list\n",
    "my_list.display()  # Output: [10, 15, 20, 30]\n",
    "\n",
    "# Remove an element\n",
    "my_list.remove(20)\n",
    "\n",
    "# Access an element at a given index\n",
    "print(my_list.get(2))  # Output: 30\n",
    "\n",
    "# Modify an element at a given index\n",
    "my_list.set(0, 5)\n",
    "\n",
    "# Check if the list is empty\n",
    "print(my_list.is_empty())  # Output: False\n",
    "\n",
    "# Display the final list\n",
    "my_list.display()  # Output: [5, 15, 30]"
   ],
   "metadata": {
    "collapsed": false,
    "ExecuteTime": {
     "start_time": "2023-06-07T09:45:24.407162Z",
     "end_time": "2023-06-07T09:45:24.435455Z"
    }
   }
  },
  {
   "cell_type": "markdown",
   "source": [
    "## Circularly Linked List\n",
    "### Class Definition\n",
    "Two classes named 'Node' and 'CircularLinkedList' are defined"
   ],
   "metadata": {
    "collapsed": false
   }
  },
  {
   "cell_type": "code",
   "execution_count": 5,
   "outputs": [],
   "source": [
    "class Node:\n",
    "    def __init__(self, data):\n",
    "        self.data = data\n",
    "        self.next = None\n",
    "\n",
    "\n",
    "class CircularLinkedList:\n",
    "    def __init__(self):\n",
    "        self.head = None\n",
    "\n",
    "    def is_empty(self):\n",
    "        return self.head is None\n",
    "\n",
    "    def insert(self, data):\n",
    "        new_node = Node(data)\n",
    "        if self.is_empty():\n",
    "            self.head = new_node\n",
    "            new_node.next = self.head\n",
    "        else:\n",
    "            current = self.head\n",
    "            while current.next != self.head:\n",
    "                current = current.next\n",
    "            current.next = new_node\n",
    "            new_node.next = self.head\n",
    "\n",
    "    def remove(self, data):\n",
    "        if self.is_empty():\n",
    "            raise ValueError(\"List is empty\")\n",
    "        if self.head.data == data:\n",
    "            current = self.head\n",
    "            while current.next != self.head:\n",
    "                current = current.next\n",
    "            if self.head == self.head.next:\n",
    "                self.head = None\n",
    "            else:\n",
    "                current.next = self.head.next\n",
    "                self.head = self.head.next\n",
    "        else:\n",
    "            current = self.head\n",
    "            prev = None\n",
    "            while current.next != self.head:\n",
    "                prev = current\n",
    "                current = current.next\n",
    "                if current.data == data:\n",
    "                    prev.next = current.next\n",
    "                    break\n",
    "\n",
    "    def display(self):\n",
    "        if self.is_empty():\n",
    "            print(\"List is empty\")\n",
    "        else:\n",
    "            elements = []\n",
    "            current = self.head\n",
    "            while True:\n",
    "                elements.append(current.data)\n",
    "                current = current.next\n",
    "                if current == self.head:\n",
    "                    break\n",
    "            print(elements)"
   ],
   "metadata": {
    "collapsed": false,
    "ExecuteTime": {
     "start_time": "2023-06-07T09:45:24.414776Z",
     "end_time": "2023-06-07T09:45:24.453874Z"
    }
   }
  },
  {
   "cell_type": "markdown",
   "source": [
    "# Implementation of Circularly Linked List Operations"
   ],
   "metadata": {
    "collapsed": false
   }
  },
  {
   "cell_type": "code",
   "execution_count": 6,
   "outputs": [
    {
     "name": "stdout",
     "output_type": "stream",
     "text": [
      "[10, 20, 30]\n",
      "[10, 30]\n"
     ]
    }
   ],
   "source": [
    "# Create a circular linked list\n",
    "clist = CircularLinkedList()\n",
    "\n",
    "# Insert elements\n",
    "clist.insert(10)\n",
    "clist.insert(20)\n",
    "clist.insert(30)\n",
    "\n",
    "# Display the list\n",
    "clist.display()  # Output: [10, 20, 30]\n",
    "\n",
    "# Remove an element\n",
    "clist.remove(20)\n",
    "\n",
    "# Display the updated list\n",
    "clist.display()  # Output: [10, 30]"
   ],
   "metadata": {
    "collapsed": false,
    "ExecuteTime": {
     "start_time": "2023-06-07T09:45:24.420110Z",
     "end_time": "2023-06-07T09:45:24.454425Z"
    }
   }
  },
  {
   "cell_type": "markdown",
   "source": [
    "## Doubly Linked List\n",
    "### Class Definition\n",
    "Two classes named 'Node' and 'DoublyLinkedList' are defined"
   ],
   "metadata": {
    "collapsed": false
   }
  },
  {
   "cell_type": "code",
   "execution_count": 7,
   "outputs": [],
   "source": [
    "class Node:\n",
    "    def __init__(self, data):\n",
    "        self.data = data\n",
    "        self.prev = None\n",
    "        self.next = None\n",
    "\n",
    "\n",
    "class DoublyLinkedList:\n",
    "    def __init__(self):\n",
    "        self.head = None\n",
    "\n",
    "    def is_empty(self):\n",
    "        return self.head is None\n",
    "\n",
    "    def insert_at_beginning(self, data):\n",
    "        new_node = Node(data)\n",
    "        if self.is_empty():\n",
    "            self.head = new_node\n",
    "        else:\n",
    "            new_node.next = self.head\n",
    "            self.head.prev = new_node\n",
    "            self.head = new_node\n",
    "\n",
    "    def insert_at_end(self, data):\n",
    "        new_node = Node(data)\n",
    "        if self.is_empty():\n",
    "            self.head = new_node\n",
    "        else:\n",
    "            current = self.head\n",
    "            while current.next:\n",
    "                current = current.next\n",
    "            current.next = new_node\n",
    "            new_node.prev = current\n",
    "\n",
    "    def insert_after(self, key, data):\n",
    "        new_node = Node(data)\n",
    "        if self.is_empty():\n",
    "            raise ValueError(\"List is empty\")\n",
    "        current = self.head\n",
    "        while current:\n",
    "            if current.data == key:\n",
    "                if current.next:\n",
    "                    new_node.next = current.next\n",
    "                    current.next.prev = new_node\n",
    "                current.next = new_node\n",
    "                new_node.prev = current\n",
    "                break\n",
    "            current = current.next\n",
    "        else:\n",
    "            raise ValueError(f\"Key '{key}' not found in the list\")\n",
    "\n",
    "    def remove(self, key):\n",
    "        if self.is_empty():\n",
    "            raise ValueError(\"List is empty\")\n",
    "        if self.head.data == key:\n",
    "            self.head = self.head.next\n",
    "            if self.head:\n",
    "                self.head.prev = None\n",
    "        else:\n",
    "            current = self.head\n",
    "            while current:\n",
    "                if current.data == key:\n",
    "                    if current.next:\n",
    "                        current.next.prev = current.prev\n",
    "                    current.prev.next = current.next\n",
    "                    break\n",
    "                current = current.next\n",
    "            else:\n",
    "                raise ValueError(f\"Key '{key}' not found in the list\")\n",
    "\n",
    "    def display_forward(self):\n",
    "        if self.is_empty():\n",
    "            print(\"List is empty\")\n",
    "        else:\n",
    "            elements = []\n",
    "            current = self.head\n",
    "            while current:\n",
    "                elements.append(current.data)\n",
    "                current = current.next\n",
    "            print(elements)\n",
    "\n",
    "    def display_backward(self):\n",
    "        if self.is_empty():\n",
    "            print(\"List is empty\")\n",
    "        else:\n",
    "            elements = []\n",
    "            current = self.head\n",
    "            while current.next:\n",
    "                current = current.next\n",
    "            while current:\n",
    "                elements.append(current.data)\n",
    "                current = current.prev\n",
    "            print(elements)"
   ],
   "metadata": {
    "collapsed": false,
    "ExecuteTime": {
     "start_time": "2023-06-07T09:45:24.432905Z",
     "end_time": "2023-06-07T09:45:24.466236Z"
    }
   }
  },
  {
   "cell_type": "markdown",
   "source": [
    "# Implementation of Doubly Linked List Operations"
   ],
   "metadata": {
    "collapsed": false
   }
  },
  {
   "cell_type": "code",
   "execution_count": 8,
   "outputs": [
    {
     "name": "stdout",
     "output_type": "stream",
     "text": [
      "[10, 15, 20]\n",
      "[20, 15, 10]\n",
      "[10, 20]\n"
     ]
    }
   ],
   "source": [
    "# Create a doubly linked list\n",
    "dllist = DoublyLinkedList()\n",
    "\n",
    "# Insert elements\n",
    "dllist.insert_at_beginning(10)\n",
    "dllist.insert_at_end(20)\n",
    "dllist.insert_after(10, 15)\n",
    "\n",
    "# Display the list in forward direction\n",
    "dllist.display_forward()  # Output: [10, 15, 20]\n",
    "\n",
    "# Display the list in backward direction\n",
    "dllist.display_backward()  # Output: [20, 15, 10]\n",
    "\n",
    "# Remove an element\n",
    "dllist.remove(15)\n",
    "\n",
    "# Display the updated list in forward direction\n",
    "dllist.display_forward()  # Output: [10, 20]"
   ],
   "metadata": {
    "collapsed": false,
    "ExecuteTime": {
     "start_time": "2023-06-07T09:45:24.436168Z",
     "end_time": "2023-06-07T09:45:24.471643Z"
    }
   }
  }
 ],
 "metadata": {
  "kernelspec": {
   "display_name": "Python 3",
   "language": "python",
   "name": "python3"
  },
  "language_info": {
   "codemirror_mode": {
    "name": "ipython",
    "version": 2
   },
   "file_extension": ".py",
   "mimetype": "text/x-python",
   "name": "python",
   "nbconvert_exporter": "python",
   "pygments_lexer": "ipython2",
   "version": "2.7.6"
  }
 },
 "nbformat": 4,
 "nbformat_minor": 0
}
