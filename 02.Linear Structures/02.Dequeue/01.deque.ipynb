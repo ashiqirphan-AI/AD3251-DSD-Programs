{
 "cells": [
  {
   "cell_type": "code",
   "execution_count": null,
   "metadata": {
    "collapsed": true
   },
   "outputs": [],
   "source": [
    "class Deque:\n",
    "    def __init__(self):\n",
    "        self.items = []\n",
    "\n",
    "    def is_empty(self):\n",
    "        return len(self.items) == 0\n",
    "\n",
    "    def enqueue_front(self, item):\n",
    "        self.items.insert(0, item)\n",
    "\n",
    "    def enqueue_rear(self, item):\n",
    "        self.items.append(item)\n",
    "\n",
    "    def dequeue_front(self):\n",
    "        if not self.is_empty():\n",
    "            return self.items.pop(0)\n",
    "        else:\n",
    "            raise IndexError(\"Deque is empty\")\n",
    "\n",
    "    def dequeue_rear(self):\n",
    "        if not self.is_empty():\n",
    "            return self.items.pop()\n",
    "        else:\n",
    "            raise IndexError(\"Deque is empty\")\n",
    "\n",
    "    def size(self):\n",
    "        return len(self.items)\n",
    "\n",
    "    def display(self):\n",
    "        print(\"Deque:\", self.items)"
   ]
  },
  {
   "cell_type": "code",
   "execution_count": null,
   "outputs": [],
   "source": [
    "# Creating object\n",
    "deque = Deque()\n",
    "\n",
    "# Enqueue elements at the front\n",
    "deque.enqueue_front(10)\n",
    "deque.enqueue_front(20)\n",
    "deque.enqueue_front(30)\n",
    "deque.display()  # Output: Deque: [30, 20, 10]\n",
    "\n",
    "# Enqueue elements at the rear\n",
    "deque.enqueue_rear(40)\n",
    "deque.enqueue_rear(50)\n",
    "deque.enqueue_rear(60)\n",
    "deque.display()  # Output: Deque: [30, 20, 10, 40, 50, 60]\n",
    "\n",
    "# Dequeue elements from the front and rear\n",
    "front_element = deque.dequeue_front()\n",
    "rear_element = deque.dequeue_rear()\n",
    "print(\"Dequeued elements:\", front_element, rear_element)  # Output: Dequeued elements: 30 60\n",
    "\n",
    "deque.display()  # Output: Deque: [20, 10, 40, 50]\n",
    "\n",
    "# Get the size of the deque\n",
    "print(\"Deque size:\", deque.size())  # Output: Deque size: 4"
   ],
   "metadata": {
    "collapsed": false
   }
  },
  {
   "cell_type": "markdown",
   "source": [],
   "metadata": {
    "collapsed": false
   }
  }
 ],
 "metadata": {
  "kernelspec": {
   "display_name": "Python 3",
   "language": "python",
   "name": "python3"
  },
  "language_info": {
   "codemirror_mode": {
    "name": "ipython",
    "version": 2
   },
   "file_extension": ".py",
   "mimetype": "text/x-python",
   "name": "python",
   "nbconvert_exporter": "python",
   "pygments_lexer": "ipython2",
   "version": "2.7.6"
  }
 },
 "nbformat": 4,
 "nbformat_minor": 0
}
