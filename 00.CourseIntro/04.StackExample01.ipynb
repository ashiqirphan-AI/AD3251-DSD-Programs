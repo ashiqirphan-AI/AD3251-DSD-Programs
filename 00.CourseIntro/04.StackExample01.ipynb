{
 "cells": [
  {
   "cell_type": "markdown",
   "source": [
    "# Creating LuggagePorter Class"
   ],
   "metadata": {
    "collapsed": false
   }
  },
  {
   "cell_type": "code",
   "execution_count": 1,
   "metadata": {
    "collapsed": true,
    "ExecuteTime": {
     "start_time": "2023-05-19T08:42:22.941009Z",
     "end_time": "2023-05-19T08:42:22.945473Z"
    }
   },
   "outputs": [],
   "source": [
    "class LuggagePorter:\n",
    "    def __init__(self):\n",
    "        self.stack = []\n",
    "\n",
    "    def push(self, luggage):\n",
    "        self.stack.append(luggage)\n",
    "\n",
    "    def pop(self):\n",
    "        if not self.is_empty():\n",
    "            return self.stack.pop()\n",
    "        else:\n",
    "            print(\"Porter has no luggage\")\n",
    "\n",
    "    def is_empty(self):\n",
    "        return len(self.stack) == 0\n",
    "\n",
    "    def print_stack(self):\n",
    "        print(\"Porter has the following luggage:\")\n",
    "        for luggage in reversed(self.stack):\n",
    "            print(luggage)"
   ]
  },
  {
   "cell_type": "markdown",
   "source": [
    "# Creating porter object"
   ],
   "metadata": {
    "collapsed": false
   }
  },
  {
   "cell_type": "code",
   "execution_count": 2,
   "outputs": [],
   "source": [
    "porter = LuggagePorter()"
   ],
   "metadata": {
    "collapsed": false,
    "ExecuteTime": {
     "start_time": "2023-05-19T08:42:22.946968Z",
     "end_time": "2023-05-19T08:42:22.949351Z"
    }
   }
  },
  {
   "cell_type": "markdown",
   "source": [
    "# Pushing items to the stack object (porter)"
   ],
   "metadata": {
    "collapsed": false
   }
  },
  {
   "cell_type": "code",
   "execution_count": 3,
   "outputs": [],
   "source": [
    "porter.push(\"Backpack\")\n",
    "porter.push(\"Laptop Bag\")\n",
    "porter.push(\"Cloth Bag\")\n",
    "porter.push(\"Camera Case\")"
   ],
   "metadata": {
    "collapsed": false,
    "ExecuteTime": {
     "start_time": "2023-05-19T08:42:22.950728Z",
     "end_time": "2023-05-19T08:42:22.953051Z"
    }
   }
  },
  {
   "cell_type": "markdown",
   "source": [
    "# Printing content of the stack object"
   ],
   "metadata": {
    "collapsed": false
   }
  },
  {
   "cell_type": "code",
   "execution_count": 4,
   "outputs": [
    {
     "name": "stdout",
     "output_type": "stream",
     "text": [
      "Porter has the following luggage:\n",
      "Camera Case\n",
      "Cloth Bag\n",
      "Laptop Bag\n",
      "Backpack\n"
     ]
    }
   ],
   "source": [
    "porter.print_stack()"
   ],
   "metadata": {
    "collapsed": false,
    "ExecuteTime": {
     "start_time": "2023-05-19T08:42:22.953711Z",
     "end_time": "2023-05-19T08:42:22.956579Z"
    }
   }
  },
  {
   "cell_type": "markdown",
   "source": [
    "# Popping items of the stack object (porter)"
   ],
   "metadata": {
    "collapsed": false
   }
  },
  {
   "cell_type": "code",
   "execution_count": 5,
   "outputs": [
    {
     "name": "stdout",
     "output_type": "stream",
     "text": [
      "Camera Case\n",
      "Cloth Bag\n",
      "Laptop Bag\n",
      "Backpack\n",
      "Porter has no luggage\n",
      "None\n"
     ]
    }
   ],
   "source": [
    "print(porter.pop())\n",
    "print(porter.pop())\n",
    "print(porter.pop())\n",
    "print(porter.pop())\n",
    "print(porter.pop())"
   ],
   "metadata": {
    "collapsed": false,
    "ExecuteTime": {
     "start_time": "2023-05-19T08:42:22.958382Z",
     "end_time": "2023-05-19T08:42:22.960625Z"
    }
   }
  }
 ],
 "metadata": {
  "kernelspec": {
   "display_name": "Python 3",
   "language": "python",
   "name": "python3"
  },
  "language_info": {
   "codemirror_mode": {
    "name": "ipython",
    "version": 2
   },
   "file_extension": ".py",
   "mimetype": "text/x-python",
   "name": "python",
   "nbconvert_exporter": "python",
   "pygments_lexer": "ipython2",
   "version": "2.7.6"
  }
 },
 "nbformat": 4,
 "nbformat_minor": 0
}
