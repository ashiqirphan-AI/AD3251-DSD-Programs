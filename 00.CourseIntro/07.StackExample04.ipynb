{
 "cells": [
  {
   "cell_type": "markdown",
   "source": [
    "# Stack Example 03\n",
    "A simple program to illustrate multiple objects of the same class, using the previous example LuggagePorter"
   ],
   "metadata": {
    "collapsed": false
   }
  },
  {
   "cell_type": "markdown",
   "source": [
    "## LuggagePorter class definition\n",
    "This class will have a new type of push that takes two"
   ],
   "metadata": {
    "collapsed": false
   }
  },
  {
   "cell_type": "code",
   "execution_count": 1,
   "metadata": {
    "collapsed": true,
    "ExecuteTime": {
     "start_time": "2023-05-19T10:23:52.941406Z",
     "end_time": "2023-05-19T10:23:52.945519Z"
    }
   },
   "outputs": [],
   "source": [
    "class LuggagePorter:\n",
    "    def __init__(self):\n",
    "        self.stack = []\n",
    "\n",
    "    def push(self, luggageName, luggageWeight):\n",
    "        luggage = (luggageName,luggageWeight)\n",
    "        self.stack.append(luggage)\n",
    "\n",
    "    def pop(self):\n",
    "        if not self.is_empty():\n",
    "            return self.stack.pop()\n",
    "        else:\n",
    "            print(\"Porter has no luggage\")\n",
    "\n",
    "    def is_empty(self):\n",
    "        return len(self.stack) == 0\n",
    "\n",
    "    def print_stack(self):\n",
    "        print(\"Porter has the following luggage:\")\n",
    "        for luggage in reversed(self.stack):\n",
    "            print(luggage)\n",
    "\n",
    "    def get_total_weight(self):\n",
    "        total_weight = 0\n",
    "        for luggage in self.stack:\n",
    "            total_weight += luggage[1]\n",
    "        return total_weight"
   ]
  },
  {
   "cell_type": "markdown",
   "source": [
    "## Creating multiple classes of the same LuggagePorter class"
   ],
   "metadata": {
    "collapsed": false
   }
  },
  {
   "cell_type": "code",
   "execution_count": 2,
   "outputs": [],
   "source": [
    "porter1 = LuggagePorter()\n",
    "porter2 = LuggagePorter()\n",
    "porter3 = LuggagePorter()"
   ],
   "metadata": {
    "collapsed": false,
    "ExecuteTime": {
     "start_time": "2023-05-19T10:23:52.946131Z",
     "end_time": "2023-05-19T10:23:52.947880Z"
    }
   }
  },
  {
   "cell_type": "markdown",
   "source": [
    "## Pushing items onto stack objects"
   ],
   "metadata": {
    "collapsed": false
   }
  },
  {
   "cell_type": "code",
   "execution_count": 3,
   "outputs": [],
   "source": [
    "porter1.push(\"Travel Bag\",10)\n",
    "porter1.push(\"Camera Bag\",20)\n",
    "porter2.push(\"Trolley\",30)\n",
    "porter2.push(\"Cloth Bag\",5)\n",
    "porter3.push(\"Laptop Bag\",20)\n",
    "porter3.push(\"Book Bag\",30)"
   ],
   "metadata": {
    "collapsed": false,
    "ExecuteTime": {
     "start_time": "2023-05-19T10:23:52.949533Z",
     "end_time": "2023-05-19T10:23:52.951432Z"
    }
   }
  },
  {
   "cell_type": "markdown",
   "source": [
    "## Printing contents of the stack object"
   ],
   "metadata": {
    "collapsed": false
   }
  },
  {
   "cell_type": "code",
   "execution_count": 4,
   "outputs": [
    {
     "name": "stdout",
     "output_type": "stream",
     "text": [
      "Porter #1 has the following contents:\n",
      "Porter has the following luggage:\n",
      "('Camera Bag', 20)\n",
      "('Travel Bag', 10)\n",
      "Porter #2 has the following contents:\n",
      "Porter has the following luggage:\n",
      "('Cloth Bag', 5)\n",
      "('Trolley', 30)\n",
      "Porter #3 has the following contents:\n",
      "Porter has the following luggage:\n",
      "('Book Bag', 30)\n",
      "('Laptop Bag', 20)\n"
     ]
    }
   ],
   "source": [
    "print(\"Porter #1 has the following contents:\")\n",
    "porter1.print_stack()\n",
    "\n",
    "print(\"Porter #2 has the following contents:\")\n",
    "porter2.print_stack()\n",
    "\n",
    "print(\"Porter #3 has the following contents:\")\n",
    "porter3.print_stack()"
   ],
   "metadata": {
    "collapsed": false,
    "ExecuteTime": {
     "start_time": "2023-05-19T10:23:52.952086Z",
     "end_time": "2023-05-19T10:23:52.954200Z"
    }
   }
  },
  {
   "cell_type": "markdown",
   "source": [
    "## Adding total weight of luggages"
   ],
   "metadata": {
    "collapsed": false
   }
  },
  {
   "cell_type": "code",
   "execution_count": 5,
   "outputs": [
    {
     "name": "stdout",
     "output_type": "stream",
     "text": [
      "Total weight of all luggage carried by Porter 1: 30 kg\n",
      "Total weight of all luggage carried by Porter 2: 35 kg\n",
      "Total weight of all luggage carried by Porter 3: 50 kg\n"
     ]
    }
   ],
   "source": [
    "porter1_total_weight = porter1.get_total_weight()\n",
    "print(f\"Total weight of all luggage carried by Porter 1: {porter1_total_weight} kg\")\n",
    "\n",
    "porter2_total_weight = porter2.get_total_weight()\n",
    "print(f\"Total weight of all luggage carried by Porter 2: {porter2_total_weight} kg\")\n",
    "\n",
    "porter3_total_weight = porter3.get_total_weight()\n",
    "print(f\"Total weight of all luggage carried by Porter 3: {porter3_total_weight} kg\")"
   ],
   "metadata": {
    "collapsed": false,
    "ExecuteTime": {
     "start_time": "2023-05-19T10:23:52.955060Z",
     "end_time": "2023-05-19T10:23:52.958357Z"
    }
   }
  },
  {
   "cell_type": "markdown",
   "source": [
    "## Popping items off the stack object"
   ],
   "metadata": {
    "collapsed": false
   }
  },
  {
   "cell_type": "code",
   "execution_count": 6,
   "outputs": [
    {
     "name": "stdout",
     "output_type": "stream",
     "text": [
      "Porter #1 is unloading now:\n",
      "('Camera Bag', 20)\n",
      "('Travel Bag', 10)\n",
      "Porter #2 is unloading now:\n",
      "('Cloth Bag', 5)\n",
      "('Trolley', 30)\n",
      "Porter #3 is unloading now:\n",
      "('Book Bag', 30)\n",
      "('Laptop Bag', 20)\n"
     ]
    }
   ],
   "source": [
    "print(\"Porter #1 is unloading now:\")\n",
    "while not porter1.is_empty():\n",
    "    print(porter1.pop())\n",
    "\n",
    "print(\"Porter #2 is unloading now:\")\n",
    "while not porter2.is_empty():\n",
    "    print(porter2.pop())\n",
    "\n",
    "print(\"Porter #3 is unloading now:\")\n",
    "while not porter3.is_empty():\n",
    "    print(porter3.pop())"
   ],
   "metadata": {
    "collapsed": false,
    "ExecuteTime": {
     "start_time": "2023-05-19T10:23:52.958280Z",
     "end_time": "2023-05-19T10:23:52.961588Z"
    }
   }
  }
 ],
 "metadata": {
  "kernelspec": {
   "display_name": "Python 3",
   "language": "python",
   "name": "python3"
  },
  "language_info": {
   "codemirror_mode": {
    "name": "ipython",
    "version": 2
   },
   "file_extension": ".py",
   "mimetype": "text/x-python",
   "name": "python",
   "nbconvert_exporter": "python",
   "pygments_lexer": "ipython2",
   "version": "2.7.6"
  }
 },
 "nbformat": 4,
 "nbformat_minor": 0
}
