{
 "cells": [
  {
   "cell_type": "markdown",
   "source": [
    "# Stack Example #02\n",
    "A simple program to illustrate multiple objects of the same class, using the previous example LuggagePorter"
   ],
   "metadata": {
    "collapsed": false
   }
  },
  {
   "cell_type": "markdown",
   "source": [
    "## LuggagePorter class definition"
   ],
   "metadata": {
    "collapsed": false
   }
  },
  {
   "cell_type": "code",
   "execution_count": 1,
   "outputs": [],
   "source": [
    "class LuggagePorter:\n",
    "    def __init__(self):\n",
    "        self.stack = []\n",
    "\n",
    "    def push(self, luggage):\n",
    "        self.stack.append(luggage)\n",
    "\n",
    "    def pop(self):\n",
    "        if not self.is_empty():\n",
    "            return self.stack.pop()\n",
    "        else:\n",
    "            print(\"Porter has no luggage\")\n",
    "\n",
    "    def is_empty(self):\n",
    "        return len(self.stack) == 0\n",
    "\n",
    "    def print_stack(self):\n",
    "        print(\"Porter has the following luggage:\")\n",
    "        for luggage in reversed(self.stack):\n",
    "            print(luggage)"
   ],
   "metadata": {
    "collapsed": false,
    "ExecuteTime": {
     "start_time": "2023-05-19T08:56:37.137657Z",
     "end_time": "2023-05-19T08:56:37.141280Z"
    }
   }
  },
  {
   "cell_type": "markdown",
   "source": [
    "## Creating multiple classes of the same LuggagePorter class"
   ],
   "metadata": {
    "collapsed": false
   }
  },
  {
   "cell_type": "code",
   "execution_count": 2,
   "outputs": [],
   "source": [
    "porter1 = LuggagePorter()\n",
    "porter2 = LuggagePorter()\n",
    "porter3 = LuggagePorter()"
   ],
   "metadata": {
    "collapsed": false,
    "ExecuteTime": {
     "start_time": "2023-05-19T08:56:37.142147Z",
     "end_time": "2023-05-19T08:56:37.144127Z"
    }
   }
  },
  {
   "cell_type": "markdown",
   "source": [
    "## Pushing items onto stack objects"
   ],
   "metadata": {
    "collapsed": false
   }
  },
  {
   "cell_type": "code",
   "execution_count": 3,
   "outputs": [],
   "source": [
    "porter1.push(\"Travel Bag\")\n",
    "porter2.push(\"Trolley\")\n",
    "porter3.push(\"Laptop Bag\")\n",
    "porter1.push(\"College Bag\")\n",
    "porter3.push(\"Book Bag\")\n",
    "porter2.push(\"Camera Bag\")"
   ],
   "metadata": {
    "collapsed": false,
    "ExecuteTime": {
     "start_time": "2023-05-19T08:56:37.145116Z",
     "end_time": "2023-05-19T08:56:37.147644Z"
    }
   }
  },
  {
   "cell_type": "markdown",
   "source": [
    "## Printing contents of the stack object"
   ],
   "metadata": {
    "collapsed": false
   }
  },
  {
   "cell_type": "code",
   "execution_count": 4,
   "outputs": [
    {
     "name": "stdout",
     "output_type": "stream",
     "text": [
      "Porter #1 has the following contents:\n",
      "Porter has the following luggage:\n",
      "College Bag\n",
      "Travel Bag\n",
      "Porter #2 has the following contents:\n",
      "Porter has the following luggage:\n",
      "Camera Bag\n",
      "Trolley\n",
      "Porter #3 has the following contents:\n",
      "Porter has the following luggage:\n",
      "Book Bag\n",
      "Laptop Bag\n"
     ]
    }
   ],
   "source": [
    "print(\"Porter #1 has the following contents:\")\n",
    "porter1.print_stack()\n",
    "\n",
    "print(\"Porter #2 has the following contents:\")\n",
    "porter2.print_stack()\n",
    "\n",
    "print(\"Porter #3 has the following contents:\")\n",
    "porter3.print_stack()"
   ],
   "metadata": {
    "collapsed": false,
    "ExecuteTime": {
     "start_time": "2023-05-19T08:56:37.148038Z",
     "end_time": "2023-05-19T08:56:37.150492Z"
    }
   }
  },
  {
   "cell_type": "markdown",
   "source": [
    "## Popping items off the stack object"
   ],
   "metadata": {
    "collapsed": false
   }
  },
  {
   "cell_type": "code",
   "execution_count": 5,
   "outputs": [
    {
     "name": "stdout",
     "output_type": "stream",
     "text": [
      "Porter #1 is unloading now:\n",
      "College Bag\n",
      "Travel Bag\n",
      "Porter #2 is unloading now:\n",
      "Camera Bag\n",
      "Trolley\n",
      "Porter #3 is unloading now:\n",
      "Book Bag\n",
      "Laptop Bag\n"
     ]
    }
   ],
   "source": [
    "print(\"Porter #1 is unloading now:\")\n",
    "while not porter1.is_empty():\n",
    "    print(porter1.pop())\n",
    "\n",
    "print(\"Porter #2 is unloading now:\")\n",
    "while not porter2.is_empty():\n",
    "    print(porter2.pop())\n",
    "\n",
    "print(\"Porter #3 is unloading now:\")\n",
    "while not porter3.is_empty():\n",
    "    print(porter3.pop())"
   ],
   "metadata": {
    "collapsed": false,
    "ExecuteTime": {
     "start_time": "2023-05-19T08:56:37.152268Z",
     "end_time": "2023-05-19T08:56:37.154505Z"
    }
   }
  }
 ],
 "metadata": {
  "kernelspec": {
   "display_name": "Python 3",
   "language": "python",
   "name": "python3"
  },
  "language_info": {
   "codemirror_mode": {
    "name": "ipython",
    "version": 2
   },
   "file_extension": ".py",
   "mimetype": "text/x-python",
   "name": "python",
   "nbconvert_exporter": "python",
   "pygments_lexer": "ipython2",
   "version": "2.7.6"
  }
 },
 "nbformat": 4,
 "nbformat_minor": 0
}
