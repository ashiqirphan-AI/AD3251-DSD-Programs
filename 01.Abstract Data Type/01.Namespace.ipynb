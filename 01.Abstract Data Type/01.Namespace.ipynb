{
 "cells": [
  {
   "cell_type": "markdown",
   "source": [
    "# Global Namespace Example"
   ],
   "metadata": {
    "collapsed": false
   }
  },
  {
   "cell_type": "code",
   "execution_count": 3,
   "metadata": {
    "collapsed": true,
    "ExecuteTime": {
     "start_time": "2023-05-26T16:19:17.679259Z",
     "end_time": "2023-05-26T16:19:17.682214Z"
    }
   },
   "outputs": [
    {
     "name": "stdout",
     "output_type": "stream",
     "text": [
      "Global variable: 10\n",
      "Global variable: 20\n"
     ]
    }
   ],
   "source": [
    "# Global namespace example\n",
    "\n",
    "# Global variable defined in the global namespace\n",
    "global_var = 10\n",
    "\n",
    "# Function accessing the global variable\n",
    "def print_global_variable():\n",
    "    print(\"Global variable:\", global_var)\n",
    "\n",
    "# Function modifying the global variable\n",
    "def modify_global_variable():\n",
    "    global global_var\n",
    "    global_var = 20\n",
    "\n",
    "# Accessing the global variable\n",
    "print_global_variable()  # Output: Global variable: 10\n",
    "\n",
    "# Modifying the global variable\n",
    "modify_global_variable()\n",
    "\n",
    "# Accessing the modified global variable\n",
    "print_global_variable()  # Output: Global variable: 20"
   ]
  },
  {
   "cell_type": "markdown",
   "source": [
    "# Local Namespace Example"
   ],
   "metadata": {
    "collapsed": false
   }
  },
  {
   "cell_type": "code",
   "execution_count": 4,
   "outputs": [
    {
     "name": "stdout",
     "output_type": "stream",
     "text": [
      "Global variable (before function call): 10\n",
      "Local variable: 20\n",
      "Global variable: 10\n"
     ]
    }
   ],
   "source": [
    "# Local namespace example\n",
    "\n",
    "# Global variable defined in the global namespace\n",
    "global_var = 10\n",
    "\n",
    "# Function with its own local namespace\n",
    "def local_function():\n",
    "    # Local variable defined in the local namespace\n",
    "    local_var = 20\n",
    "    print(\"Local variable:\", local_var)\n",
    "\n",
    "    # Accessing the global variable from the local namespace\n",
    "    print(\"Global variable:\", global_var)\n",
    "\n",
    "# Accessing the global variable from the global namespace\n",
    "print(\"Global variable (before function call):\", global_var)\n",
    "\n",
    "# Calling the function with its local namespace\n",
    "local_function()\n",
    "\n",
    "# Attempting to access the local variable from the global namespace (results in an error)\n",
    "# print(\"Local variable (outside function):\", local_var)"
   ],
   "metadata": {
    "collapsed": false,
    "ExecuteTime": {
     "start_time": "2023-05-26T16:19:17.682820Z",
     "end_time": "2023-05-26T16:19:17.684764Z"
    }
   }
  },
  {
   "cell_type": "markdown",
   "source": [
    "# Instance Namespace Example"
   ],
   "metadata": {
    "collapsed": false
   }
  },
  {
   "cell_type": "code",
   "execution_count": 5,
   "outputs": [
    {
     "name": "stdout",
     "output_type": "stream",
     "text": [
      "Instance variable (obj1): 20\n",
      "Instance variable (obj2): 20\n",
      "Calling instance_method() on obj1:\n",
      "Instance variable: 20\n",
      "Method variable: 30\n",
      "Calling instance_method() on obj2:\n",
      "Instance variable: 20\n",
      "Method variable: 30\n"
     ]
    }
   ],
   "source": [
    "# Instance namespace example\n",
    "\n",
    "# Define a class\n",
    "class MyClass:\n",
    "    class_var = 10  # Class variable\n",
    "\n",
    "    def __init__(self):\n",
    "        self.instance_var = 20  # Instance variable\n",
    "\n",
    "    def instance_method(self):\n",
    "        method_var = 30  # Local variable inside the method\n",
    "        print(\"Instance variable:\", self.instance_var)\n",
    "        print(\"Method variable:\", method_var)\n",
    "\n",
    "\n",
    "# Create two instances of the class\n",
    "obj1 = MyClass()\n",
    "obj2 = MyClass()\n",
    "\n",
    "# Access instance variables from each instance's namespace\n",
    "print(\"Instance variable (obj1):\", obj1.instance_var)\n",
    "print(\"Instance variable (obj2):\", obj2.instance_var)\n",
    "\n",
    "# Call the instance method on each instance\n",
    "print(\"Calling instance_method() on obj1:\")\n",
    "obj1.instance_method()\n",
    "\n",
    "print(\"Calling instance_method() on obj2:\")\n",
    "obj2.instance_method()"
   ],
   "metadata": {
    "collapsed": false,
    "ExecuteTime": {
     "start_time": "2023-05-26T16:19:17.686177Z",
     "end_time": "2023-05-26T16:19:17.692124Z"
    }
   }
  },
  {
   "cell_type": "markdown",
   "source": [
    "# Class Namespace Example"
   ],
   "metadata": {
    "collapsed": false
   }
  },
  {
   "cell_type": "code",
   "execution_count": 6,
   "outputs": [
    {
     "name": "stdout",
     "output_type": "stream",
     "text": [
      "Class variable (from class namespace): 10\n",
      "Instance variable (from instance namespace): 20\n",
      "Class variable: 10\n",
      "Instance variable: 20\n"
     ]
    }
   ],
   "source": [
    "# Class namespace example\n",
    "\n",
    "# Define a class with its own namespace\n",
    "class MyClass:\n",
    "    class_var = 10  # Class variable defined in the class namespace\n",
    "\n",
    "    def __init__(self):\n",
    "        self.instance_var = 20  # Instance variable defined in the instance's namespace\n",
    "\n",
    "    def instance_method(self):\n",
    "        # Accessing the class variable from the instance's namespace\n",
    "        print(\"Class variable:\", self.class_var)\n",
    "\n",
    "        # Accessing the instance variable from the instance's namespace\n",
    "        print(\"Instance variable:\", self.instance_var)\n",
    "\n",
    "\n",
    "# Accessing the class variable from the class namespace\n",
    "print(\"Class variable (from class namespace):\", MyClass.class_var)\n",
    "\n",
    "# Creating an instance of the class\n",
    "my_object = MyClass()\n",
    "\n",
    "# Accessing the instance variable from the instance's namespace\n",
    "print(\"Instance variable (from instance namespace):\", my_object.instance_var)\n",
    "\n",
    "# Calling the instance method, which accesses variables from the class and instance namespaces\n",
    "my_object.instance_method()"
   ],
   "metadata": {
    "collapsed": false,
    "ExecuteTime": {
     "start_time": "2023-05-26T16:19:17.694863Z",
     "end_time": "2023-05-26T16:19:17.696566Z"
    }
   }
  },
  {
   "cell_type": "markdown",
   "source": [],
   "metadata": {
    "collapsed": false
   }
  }
 ],
 "metadata": {
  "kernelspec": {
   "display_name": "Python 3",
   "language": "python",
   "name": "python3"
  },
  "language_info": {
   "codemirror_mode": {
    "name": "ipython",
    "version": 2
   },
   "file_extension": ".py",
   "mimetype": "text/x-python",
   "name": "python",
   "nbconvert_exporter": "python",
   "pygments_lexer": "ipython2",
   "version": "2.7.6"
  }
 },
 "nbformat": 4,
 "nbformat_minor": 0
}
