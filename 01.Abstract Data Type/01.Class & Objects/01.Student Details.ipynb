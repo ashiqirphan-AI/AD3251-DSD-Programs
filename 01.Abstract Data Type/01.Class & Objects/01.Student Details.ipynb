{
 "cells": [
  {
   "cell_type": "markdown",
   "source": [
    "# Student Management System"
   ],
   "metadata": {
    "collapsed": false
   }
  },
  {
   "cell_type": "markdown",
   "source": [
    "## Problem Statement\n",
    "\n",
    "Design a Student Management System using classes and objects in Python. The system should allow the user to input the number of students and their details, and then display the details of all the students.\n",
    "\n",
    "Requirements:\n",
    "1. Create a class called \"Student\" with the following attributes:\n",
    "   - Name: The name of the student (string)\n",
    "   - Roll Number: The roll number of the student (integer)\n",
    "   - Grade: The grade of the student (string)\n",
    "\n",
    "2. Implement the following methods in the \"Student\" class:\n",
    "   - `__init__()`: Initializes the attributes of the student object.\n",
    "   - `display_details()`: Prints the details of the student.\n",
    "\n",
    "3. Prompt the user to enter the number of students they want to manage.\n",
    "\n",
    "4. For each student, prompt the user to enter the following details:\n",
    "   - Name: The name of the student.\n",
    "   - Roll Number: The roll number of the student.\n",
    "   - Grade: The grade of the student.\n",
    "\n",
    "5. Create a new object of the \"Student\" class for each student and store them in a list.\n",
    "\n",
    "6. Display the details of all the students by calling the `display_details()` method on each student object.\n",
    "\n",
    "Ensure that your program is well-structured and follows best coding practices. Test your program with different inputs to validate its correctness."
   ],
   "metadata": {
    "collapsed": false
   }
  },
  {
   "cell_type": "markdown",
   "source": [
    "## Sample Output\n",
    "```\n",
    "Enter the number of students: 3\n",
    "\n",
    "Enter details for student 1:\n",
    "Name: John\n",
    "Roll Number: 101\n",
    "Grade: A\n",
    "\n",
    "Enter details for student 2:\n",
    "Name: Mary\n",
    "Roll Number: 102\n",
    "Grade: B\n",
    "\n",
    "Enter details for student 3:\n",
    "Name: David\n",
    "Roll Number: 103\n",
    "Grade: A-\n",
    "\n",
    "Details of all students:\n",
    "----------------------------\n",
    "Name: John\n",
    "Roll Number: 101\n",
    "Grade: A\n",
    "\n",
    "Name: Mary\n",
    "Roll Number: 102\n",
    "Grade: B\n",
    "\n",
    "Name: David\n",
    "Roll Number: 103\n",
    "Grade: A-\n",
    "```"
   ],
   "metadata": {
    "collapsed": false
   }
  },
  {
   "cell_type": "code",
   "execution_count": 1,
   "metadata": {
    "collapsed": true,
    "ExecuteTime": {
     "start_time": "2023-06-12T05:53:56.110474Z",
     "end_time": "2023-06-12T05:54:30.566715Z"
    }
   },
   "outputs": [
    {
     "name": "stdout",
     "output_type": "stream",
     "text": [
      "\n",
      "Enter details for student 1:\n",
      "\n",
      "Enter details for student 2:\n",
      "\n",
      "Enter details for student 3:\n",
      "\n",
      "Name: Stud1\n",
      "Roll Number: 1\n",
      "Grade: A+\n",
      "\n",
      "Name: Stud2\n",
      "Roll Number: 2\n",
      "Grade: B-\n",
      "\n",
      "Name: Stud3\n",
      "Roll Number: 3\n",
      "Grade: O\n"
     ]
    }
   ],
   "source": [
    "class Student:\n",
    "    def __init__(self, name, roll_number, grade):\n",
    "        self.name = name\n",
    "        self.roll_number = roll_number\n",
    "        self.grade = grade\n",
    "\n",
    "    def display_details(self):\n",
    "        print(\"Name:\", self.name)\n",
    "        print(\"Roll Number:\", self.roll_number)\n",
    "        print(\"Grade:\", self.grade)\n",
    "\n",
    "\n",
    "# Get the number of students from the user\n",
    "num_students = int(input(\"Enter the number of students: \"))\n",
    "\n",
    "students = []\n",
    "\n",
    "# Create objects for each student\n",
    "for i in range(num_students):\n",
    "    print(f\"\\nEnter details for student {i+1}:\")\n",
    "    name = input(\"Name: \")\n",
    "    roll_number = int(input(\"Roll Number: \"))\n",
    "    grade = input(\"Grade: \")\n",
    "\n",
    "    student = Student(name, roll_number, grade)\n",
    "    students.append(student)\n",
    "\n",
    "# Display details of all students\n",
    "for student in students:\n",
    "    print()\n",
    "    student.display_details()"
   ]
  }
 ],
 "metadata": {
  "kernelspec": {
   "display_name": "Python 3",
   "language": "python",
   "name": "python3"
  },
  "language_info": {
   "codemirror_mode": {
    "name": "ipython",
    "version": 2
   },
   "file_extension": ".py",
   "mimetype": "text/x-python",
   "name": "python",
   "nbconvert_exporter": "python",
   "pygments_lexer": "ipython2",
   "version": "2.7.6"
  }
 },
 "nbformat": 4,
 "nbformat_minor": 0
}
