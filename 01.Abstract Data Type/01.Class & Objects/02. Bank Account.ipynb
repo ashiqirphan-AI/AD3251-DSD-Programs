{
 "cells": [
  {
   "cell_type": "markdown",
   "source": [
    "# Bank Account Management"
   ],
   "metadata": {
    "collapsed": false
   }
  },
  {
   "cell_type": "markdown",
   "source": [
    "## Problem Statement:\n",
    "You are tasked with creating a simple Bank Account management system using Python. The system should allow users to create a bank account, make deposits, and perform withdrawals. The program should display the account details including the account number, account holder name, and current balance after each transaction.\n",
    "\n",
    "Your task is to write a Python program that implements the following:\n",
    "\n",
    "1. Create a `BankAccount` class with the following attributes:\n",
    "   - `account_number` (string): Represents the account number.\n",
    "   - `account_holder` (string): Represents the account holder name.\n",
    "   - `balance` (float): Represents the current balance (default value is 0).\n",
    "\n",
    "2. Implement the following methods in the `BankAccount` class:\n",
    "   - `deposit(amount)`: Adds the specified `amount` to the account balance.\n",
    "   - `withdraw(amount)`: Subtracts the specified `amount` from the account balance, if sufficient funds are available. Otherwise, display an error message.\n",
    "   - `display_details()`: Prints the account details including the account number, account holder name, and current balance.\n",
    "\n",
    "3. Prompt the user to enter the account number, account holder name, deposit amount, and withdrawal amount.\n",
    "\n",
    "4. Create a `BankAccount` object using the entered account number and account holder name.\n",
    "\n",
    "5. Call the `deposit(amount)` method to deposit the specified amount into the account.\n",
    "\n",
    "6. Call the `withdraw(amount)` method to withdraw the specified amount from the account.\n",
    "\n",
    "7. Finally, call the `display_details()` method to print the account details.\n",
    "\n",
    "Ensure that your program handles invalid inputs gracefully and provides appropriate error messages when necessary.\n",
    "\n",
    "Your program should allow the user to perform multiple transactions in a single run.\n",
    "\n",
    "Implement the program using class and object concepts in Python to achieve the desired functionality."
   ],
   "metadata": {
    "collapsed": false
   }
  },
  {
   "cell_type": "code",
   "execution_count": 5,
   "metadata": {
    "collapsed": true,
    "ExecuteTime": {
     "start_time": "2023-06-12T06:02:49.765239Z",
     "end_time": "2023-06-12T06:02:49.773698Z"
    }
   },
   "outputs": [],
   "source": [
    "class BankAccount:\n",
    "    def __init__(self, account_number, account_holder, balance=0):\n",
    "        self.account_number = account_number\n",
    "        self.account_holder = account_holder\n",
    "        self.balance = balance\n",
    "\n",
    "    def deposit(self, amount):\n",
    "        self.balance += amount\n",
    "        print(f\"Deposit of {amount} successful. New balance: {self.balance}\")\n",
    "\n",
    "    def withdraw(self, amount):\n",
    "        if self.balance >= amount:\n",
    "            self.balance -= amount\n",
    "            print(f\"Withdrawal of {amount} successful. New balance: {self.balance}\")\n",
    "        else:\n",
    "            print(\"Insufficient balance.\")\n",
    "\n",
    "    def display_details(self):\n",
    "        print(\"Account Details:\")\n",
    "        print(f\"Account Number: {self.account_number}\")\n",
    "        print(f\"Account Holder: {self.account_holder}\")\n",
    "        print(f\"Balance: {self.balance}\")"
   ]
  },
  {
   "cell_type": "code",
   "execution_count": 6,
   "outputs": [],
   "source": [
    "# Create a BankAccount object\n",
    "account_number = input(\"Enter account number: \")\n",
    "account_holder = input(\"Enter account holder name: \")\n",
    "account = BankAccount(account_number, account_holder)"
   ],
   "metadata": {
    "collapsed": false,
    "ExecuteTime": {
     "start_time": "2023-06-12T06:02:49.768469Z",
     "end_time": "2023-06-12T06:02:58.044743Z"
    }
   }
  },
  {
   "cell_type": "code",
   "execution_count": 7,
   "outputs": [
    {
     "name": "stdout",
     "output_type": "stream",
     "text": [
      "Deposit of 1000.0 successful. New balance: 1000.0\n",
      "Withdrawal of 10.0 successful. New balance: 990.0\n"
     ]
    }
   ],
   "source": [
    "# Perform operations on the account\n",
    "deposit_amount = float(input(\"Enter deposit amount: \"))\n",
    "account.deposit(deposit_amount)\n",
    "\n",
    "withdraw_amount = float(input(\"Enter withdrawal amount: \"))\n",
    "account.withdraw(withdraw_amount)"
   ],
   "metadata": {
    "collapsed": false,
    "ExecuteTime": {
     "start_time": "2023-06-12T06:02:58.024349Z",
     "end_time": "2023-06-12T06:03:02.326494Z"
    }
   }
  },
  {
   "cell_type": "code",
   "execution_count": 8,
   "outputs": [
    {
     "name": "stdout",
     "output_type": "stream",
     "text": [
      "Account Details:\n",
      "Account Number: 1001\n",
      "Account Holder: David\n",
      "Balance: 990.0\n"
     ]
    }
   ],
   "source": [
    "account.display_details()"
   ],
   "metadata": {
    "collapsed": false,
    "ExecuteTime": {
     "start_time": "2023-06-12T06:03:02.295785Z",
     "end_time": "2023-06-12T06:03:02.326700Z"
    }
   }
  }
 ],
 "metadata": {
  "kernelspec": {
   "display_name": "Python 3",
   "language": "python",
   "name": "python3"
  },
  "language_info": {
   "codemirror_mode": {
    "name": "ipython",
    "version": 2
   },
   "file_extension": ".py",
   "mimetype": "text/x-python",
   "name": "python",
   "nbconvert_exporter": "python",
   "pygments_lexer": "ipython2",
   "version": "2.7.6"
  }
 },
 "nbformat": 4,
 "nbformat_minor": 0
}
