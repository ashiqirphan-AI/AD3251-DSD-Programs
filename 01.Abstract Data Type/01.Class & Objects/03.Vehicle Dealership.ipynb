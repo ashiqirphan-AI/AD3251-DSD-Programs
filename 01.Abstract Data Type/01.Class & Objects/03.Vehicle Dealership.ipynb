{
 "cells": [
  {
   "cell_type": "markdown",
   "source": [
    "# Vehicle Management\n",
    "## Problem Statement\n",
    "\n",
    "You have been assigned the task of creating a car management system using Python. The system should allow the user to manage a fleet of vehicles, including cars and motorcycles. Each vehicle has attributes like make, model, color, and price. The system should provide functionality to set the price for each vehicle, check its availability, and mark it as sold.\n",
    "\n",
    "Write a Python program that implements the following:\n",
    "\n",
    "1. Define a base class called `Vehicle` with the following attributes and methods:\n",
    "   - Attributes:\n",
    "     - `make` (string): the make of the vehicle\n",
    "     - `model` (string): the model of the vehicle\n",
    "     - `color` (string): the color of the vehicle\n",
    "     - `is_available` (boolean): indicates whether the vehicle is available for sale\n",
    "     - `price` (float): the price of the vehicle\n",
    "   - Methods:\n",
    "     - `set_price(price)`: sets the price of the vehicle\n",
    "     - `available()`: displays the availability and price of the vehicle\n",
    "     - `sold()`: marks the vehicle as sold\n",
    "\n",
    "2. Define a subclass called `Car` that inherits from the `Vehicle` class. It should have an additional attribute `num_wheels` (integer) set to 4.\n",
    "\n",
    "3. Define another subclass called `Motorcycle` that also inherits from the `Vehicle` class. It should have an additional attribute `num_wheels` (integer) set to 2.\n",
    "\n",
    "4. Create instances of the `Car` and `Motorcycle` classes for different vehicles.\n",
    "\n",
    "5. Prompt the user to enter the prices for each vehicle.\n",
    "\n",
    "6. Set the prices for each vehicle using the `set_price()` method.\n",
    "\n",
    "7. Display the availability and prices of each vehicle using the `available()` method.\n",
    "\n",
    "8. Mark a vehicle as sold using the `sold()` method.\n",
    "\n",
    "Your program should provide an interactive experience for managing the vehicles and demonstrate the inheritance concept in object-oriented programming.\n",
    "\n",
    "Note: The program should handle user input for setting prices and display appropriate messages for availability and sold status.\n",
    "\n",
    "Write a Python program to implement the above requirements and demonstrate the functionalities of the car management system."
   ],
   "metadata": {
    "collapsed": false
   }
  },
  {
   "cell_type": "code",
   "execution_count": 12,
   "metadata": {
    "collapsed": true,
    "ExecuteTime": {
     "start_time": "2023-06-12T06:26:04.417178Z",
     "end_time": "2023-06-12T06:26:04.420227Z"
    }
   },
   "outputs": [],
   "source": [
    "class Vehicle:\n",
    "    def __init__(self, make, model, color):\n",
    "        self.make = make\n",
    "        self.model = model\n",
    "        self.color = color\n",
    "        self.is_available = True\n",
    "        self.price = 0\n",
    "\n",
    "    def set_price(self, price):\n",
    "        self.price = price\n",
    "\n",
    "    def available(self):\n",
    "        if self.is_available:\n",
    "            print(f\"{self.make} {self.model} ({self.color}) is available for sale at Rs.{self.price}.\")\n",
    "        else:\n",
    "            print(f\"{self.make} {self.model} ({self.color}) is not available for sale.\")\n",
    "\n",
    "    def sold(self):\n",
    "        if self.is_available:\n",
    "            self.is_available = False\n",
    "            print(f\"{self.make} {self.model} ({self.color}) has been sold.\")\n",
    "        else:\n",
    "            print(f\"{self.make} {self.model} ({self.color}) is already sold.\")\n",
    "\n",
    "\n",
    "class Car(Vehicle):\n",
    "    def __init__(self, make, model, color):\n",
    "        super().__init__(make, model, color)\n",
    "        self.num_wheels = 4\n",
    "\n",
    "\n",
    "class Motorcycle(Vehicle):\n",
    "    def __init__(self, make, model, color):\n",
    "        super().__init__(make, model, color)\n",
    "        self.num_wheels = 2"
   ]
  },
  {
   "cell_type": "code",
   "execution_count": 13,
   "outputs": [],
   "source": [
    "# Create instances of Car and Motorcycle\n",
    "car = Car(\"Toyota\", \"Camry\", \"Red\")\n",
    "motorcycle = Motorcycle(\"Honda\", \"CBR\", \"Black\")"
   ],
   "metadata": {
    "collapsed": false,
    "ExecuteTime": {
     "start_time": "2023-06-12T06:26:04.421116Z",
     "end_time": "2023-06-12T06:26:04.423465Z"
    }
   }
  },
  {
   "cell_type": "code",
   "execution_count": 14,
   "outputs": [],
   "source": [
    "# Get prices from user input\n",
    "car_price = float(input(\"Enter the price for the Toyota Camry (Red): Rs.\"))\n",
    "motorcycle_price = float(input(\"Enter the price for the Honda CBR (Black): Rs.\"))"
   ],
   "metadata": {
    "collapsed": false,
    "ExecuteTime": {
     "start_time": "2023-06-12T06:26:04.424052Z",
     "end_time": "2023-06-12T06:26:10.083850Z"
    }
   }
  },
  {
   "cell_type": "code",
   "execution_count": 15,
   "outputs": [],
   "source": [
    "# Set prices for vehicles\n",
    "car.set_price(car_price)\n",
    "motorcycle.set_price(motorcycle_price)"
   ],
   "metadata": {
    "collapsed": false,
    "ExecuteTime": {
     "start_time": "2023-06-12T06:26:10.061847Z",
     "end_time": "2023-06-12T06:26:10.084029Z"
    }
   }
  },
  {
   "cell_type": "code",
   "execution_count": 16,
   "outputs": [
    {
     "name": "stdout",
     "output_type": "stream",
     "text": [
      "Toyota Camry (Red) is available for sale at Rs.2000.0.\n",
      "Toyota Camry (Red) has been sold.\n",
      "Honda CBR (Black) is available for sale at Rs.5000.0.\n",
      "Honda CBR (Black) has been sold.\n"
     ]
    }
   ],
   "source": [
    "# Check availability and sell vehicles\n",
    "car.available()\n",
    "car.sold()\n",
    "\n",
    "motorcycle.available()\n",
    "motorcycle.sold()"
   ],
   "metadata": {
    "collapsed": false,
    "ExecuteTime": {
     "start_time": "2023-06-12T06:26:10.067690Z",
     "end_time": "2023-06-12T06:26:10.084163Z"
    }
   }
  }
 ],
 "metadata": {
  "kernelspec": {
   "display_name": "Python 3",
   "language": "python",
   "name": "python3"
  },
  "language_info": {
   "codemirror_mode": {
    "name": "ipython",
    "version": 2
   },
   "file_extension": ".py",
   "mimetype": "text/x-python",
   "name": "python",
   "nbconvert_exporter": "python",
   "pygments_lexer": "ipython2",
   "version": "2.7.6"
  }
 },
 "nbformat": 4,
 "nbformat_minor": 0
}
