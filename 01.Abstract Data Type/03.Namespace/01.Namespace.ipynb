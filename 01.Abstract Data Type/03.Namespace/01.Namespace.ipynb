{
 "cells": [
  {
   "cell_type": "markdown",
   "source": [
    "# Global Namespace Example"
   ],
   "metadata": {
    "collapsed": false
   }
  },
  {
   "cell_type": "code",
   "execution_count": 7,
   "metadata": {
    "collapsed": true,
    "ExecuteTime": {
     "start_time": "2023-05-26T20:43:56.389021Z",
     "end_time": "2023-05-26T20:43:56.434657Z"
    }
   },
   "outputs": [
    {
     "name": "stdout",
     "output_type": "stream",
     "text": [
      "Global variable: 10\n",
      "Global variable: 20\n"
     ]
    }
   ],
   "source": [
    "# Global namespace example\n",
    "\n",
    "# Global variable defined in the global namespace\n",
    "global_var = 10\n",
    "\n",
    "# Function accessing the global variable\n",
    "def print_global_variable():\n",
    "    print(\"Global variable:\", global_var)\n",
    "\n",
    "# Function modifying the global variable\n",
    "def modify_global_variable():\n",
    "    global global_var\n",
    "    global_var = 20\n",
    "\n",
    "# Accessing the global variable\n",
    "print_global_variable()  # Output: Global variable: 10\n",
    "\n",
    "# Modifying the global variable\n",
    "modify_global_variable()\n",
    "\n",
    "# Accessing the modified global variable\n",
    "print_global_variable()  # Output: Global variable: 20"
   ]
  },
  {
   "cell_type": "markdown",
   "source": [
    "# Local Namespace Example"
   ],
   "metadata": {
    "collapsed": false
   }
  },
  {
   "cell_type": "code",
   "execution_count": 8,
   "outputs": [
    {
     "name": "stdout",
     "output_type": "stream",
     "text": [
      "Global variable (before function call): 10\n",
      "Local variable: 20\n",
      "Global variable: 10\n"
     ]
    }
   ],
   "source": [
    "# Local namespace example\n",
    "\n",
    "# Global variable defined in the global namespace\n",
    "global_var = 10\n",
    "\n",
    "# Function with its own local namespace\n",
    "def local_function():\n",
    "    # Local variable defined in the local namespace\n",
    "    local_var = 20\n",
    "    print(\"Local variable:\", local_var)\n",
    "\n",
    "    # Accessing the global variable from the local namespace\n",
    "    print(\"Global variable:\", global_var)\n",
    "\n",
    "# Accessing the global variable from the global namespace\n",
    "print(\"Global variable (before function call):\", global_var)\n",
    "\n",
    "# Calling the function with its local namespace\n",
    "local_function()\n",
    "\n",
    "# Attempting to access the local variable from the global namespace (results in an error)\n",
    "# print(\"Local variable (outside function):\", local_var)"
   ],
   "metadata": {
    "collapsed": false,
    "ExecuteTime": {
     "start_time": "2023-05-26T20:43:56.392348Z",
     "end_time": "2023-05-26T20:43:56.435397Z"
    }
   }
  },
  {
   "cell_type": "markdown",
   "source": [
    "# Instance Namespace Example"
   ],
   "metadata": {
    "collapsed": false
   }
  },
  {
   "cell_type": "code",
   "execution_count": 9,
   "outputs": [
    {
     "name": "stdout",
     "output_type": "stream",
     "text": [
      "Instance variable (obj1): 20\n",
      "Instance variable (obj2): 20\n",
      "Calling instance_method() on obj1:\n",
      "Instance variable: 20\n",
      "Method variable: 30\n",
      "Calling instance_method() on obj2:\n",
      "Instance variable: 20\n",
      "Method variable: 30\n"
     ]
    }
   ],
   "source": [
    "# Instance namespace example\n",
    "\n",
    "# Define a class\n",
    "class MyClass:\n",
    "    class_var = 10  # Class variable\n",
    "\n",
    "    def __init__(self):\n",
    "        self.instance_var = 20  # Instance variable\n",
    "\n",
    "    def instance_method(self):\n",
    "        method_var = 30  # Local variable inside the method\n",
    "        print(\"Instance variable:\", self.instance_var)\n",
    "        print(\"Method variable:\", method_var)\n",
    "\n",
    "\n",
    "# Create two instances of the class\n",
    "obj1 = MyClass()\n",
    "obj2 = MyClass()\n",
    "\n",
    "# Access instance variables from each instance's namespace\n",
    "print(\"Instance variable (obj1):\", obj1.instance_var)\n",
    "print(\"Instance variable (obj2):\", obj2.instance_var)\n",
    "\n",
    "# Call the instance method on each instance\n",
    "print(\"Calling instance_method() on obj1:\")\n",
    "obj1.instance_method()\n",
    "\n",
    "print(\"Calling instance_method() on obj2:\")\n",
    "obj2.instance_method()"
   ],
   "metadata": {
    "collapsed": false,
    "ExecuteTime": {
     "start_time": "2023-05-26T20:43:56.399188Z",
     "end_time": "2023-05-26T20:43:56.436050Z"
    }
   }
  },
  {
   "cell_type": "markdown",
   "source": [
    "# Class Namespace Example"
   ],
   "metadata": {
    "collapsed": false
   }
  },
  {
   "cell_type": "code",
   "execution_count": 10,
   "outputs": [
    {
     "name": "stdout",
     "output_type": "stream",
     "text": [
      "Class variable (from class namespace): 10\n",
      "Instance variable (from instance namespace): 20\n",
      "Class variable: 10\n",
      "Instance variable: 20\n"
     ]
    }
   ],
   "source": [
    "# Class namespace example\n",
    "\n",
    "# Define a class with its own namespace\n",
    "class MyClass:\n",
    "    class_var = 10  # Class variable defined in the class namespace\n",
    "\n",
    "    def __init__(self):\n",
    "        self.instance_var = 20  # Instance variable defined in the instance's namespace\n",
    "\n",
    "    def instance_method(self):\n",
    "        # Accessing the class variable from the instance's namespace\n",
    "        print(\"Class variable:\", self.class_var)\n",
    "\n",
    "        # Accessing the instance variable from the instance's namespace\n",
    "        print(\"Instance variable:\", self.instance_var)\n",
    "\n",
    "\n",
    "# Accessing the class variable from the class namespace\n",
    "print(\"Class variable (from class namespace):\", MyClass.class_var)\n",
    "\n",
    "# Creating an instance of the class\n",
    "my_object = MyClass()\n",
    "\n",
    "# Accessing the instance variable from the instance's namespace\n",
    "print(\"Instance variable (from instance namespace):\", my_object.instance_var)\n",
    "\n",
    "# Calling the instance method, which accesses variables from the class and instance namespaces\n",
    "my_object.instance_method()"
   ],
   "metadata": {
    "collapsed": false,
    "ExecuteTime": {
     "start_time": "2023-05-26T20:43:56.404755Z",
     "end_time": "2023-05-26T20:43:56.436612Z"
    }
   }
  },
  {
   "cell_type": "markdown",
   "source": [
    "# Module Namespace"
   ],
   "metadata": {
    "collapsed": false
   }
  },
  {
   "cell_type": "code",
   "execution_count": 11,
   "outputs": [
    {
     "name": "stdout",
     "output_type": "stream",
     "text": [
      "Module variable 1: 10\n",
      "Module variable 2: Hello\n",
      "This is a function in the module namespace\n",
      "Instance variable (obj): 20\n",
      "This is an instance method in the module namespace\n"
     ]
    }
   ],
   "source": [
    "# Module namespace example\n",
    "\n",
    "# Define variables in the module namespace\n",
    "module_var1 = 10\n",
    "module_var2 = \"Hello\"\n",
    "\n",
    "# Define a function in the module namespace\n",
    "def module_function():\n",
    "    print(\"This is a function in the module namespace\")\n",
    "\n",
    "# Define a class in the module namespace\n",
    "class MyClass:\n",
    "    def __init__(self):\n",
    "        self.instance_var = 20\n",
    "\n",
    "    def instance_method(self):\n",
    "        print(\"This is an instance method in the module namespace\")\n",
    "\n",
    "\n",
    "# Access variables, function, and class from the module namespace\n",
    "print(\"Module variable 1:\", module_var1)\n",
    "print(\"Module variable 2:\", module_var2)\n",
    "\n",
    "module_function()\n",
    "\n",
    "obj = MyClass()\n",
    "print(\"Instance variable (obj):\", obj.instance_var)\n",
    "\n",
    "obj.instance_method()"
   ],
   "metadata": {
    "collapsed": false,
    "ExecuteTime": {
     "start_time": "2023-05-26T20:43:56.408968Z",
     "end_time": "2023-05-26T20:43:56.436804Z"
    }
   }
  },
  {
   "cell_type": "code",
   "execution_count": null,
   "outputs": [],
   "source": [
    "class Car:\n",
    "    wheels = 4  # Class attribute\n",
    "\n",
    "    def __init__(self, make, model):\n",
    "        self.make = make  # Instance attribute\n",
    "        self.model = model  # Instance attribute\n",
    "\n",
    "    def drive(self):\n",
    "        print(\"The car is driving.\")\n",
    "\n",
    "# Accessing class attribute from the class namespace\n",
    "print(Car.wheels)  # Output: 4\n",
    "\n",
    "# Creating instances of the Car class\n",
    "car1 = Car(\"Toyota\", \"Camry\")\n",
    "car2 = Car(\"Honda\", \"Civic\")\n",
    "\n",
    "# Accessing instance attributes and calling instance methods\n",
    "print(car1.make)  # Output: Toyota\n",
    "print(car2.model)  # Output: Civic\n",
    "car1.drive()  # Output: The car is driving."
   ],
   "metadata": {
    "collapsed": false
   }
  },
  {
   "cell_type": "code",
   "execution_count": null,
   "outputs": [],
   "source": [
    "# Import names from the module namespace\n",
    "from mymodule import PI, greet, Circle\n",
    "\n",
    "print(PI)  # Output: 3.14\n",
    "\n",
    "greet(\"Alice\")  # Output: Hello, Alice!\n",
    "\n",
    "circle = Circle(5)\n",
    "print(circle.area())  # Output: 78.5"
   ],
   "metadata": {
    "collapsed": false
   }
  },
  {
   "cell_type": "code",
   "execution_count": 12,
   "outputs": [
    {
     "name": "stdout",
     "output_type": "stream",
     "text": [
      "Original List: [1, 2, [30, 4]]\n",
      "Shallow Copy: [10, 2, [30, 4]]\n"
     ]
    }
   ],
   "source": [],
   "metadata": {
    "collapsed": false,
    "ExecuteTime": {
     "start_time": "2023-05-30T16:43:13.300428Z",
     "end_time": "2023-05-30T16:43:13.323183Z"
    }
   }
  },
  {
   "cell_type": "code",
   "execution_count": null,
   "outputs": [],
   "source": [],
   "metadata": {
    "collapsed": false
   }
  }
 ],
 "metadata": {
  "kernelspec": {
   "display_name": "Python 3",
   "language": "python",
   "name": "python3"
  },
  "language_info": {
   "codemirror_mode": {
    "name": "ipython",
    "version": 2
   },
   "file_extension": ".py",
   "mimetype": "text/x-python",
   "name": "python",
   "nbconvert_exporter": "python",
   "pygments_lexer": "ipython2",
   "version": "2.7.6"
  }
 },
 "nbformat": 4,
 "nbformat_minor": 0
}
