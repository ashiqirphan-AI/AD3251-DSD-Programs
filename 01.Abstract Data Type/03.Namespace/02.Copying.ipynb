{
 "cells": [
  {
   "cell_type": "markdown",
   "source": [
    "# Shallow Copy"
   ],
   "metadata": {
    "collapsed": false
   }
  },
  {
   "cell_type": "code",
   "execution_count": 1,
   "metadata": {
    "collapsed": true,
    "ExecuteTime": {
     "start_time": "2023-05-30T16:55:05.081007Z",
     "end_time": "2023-05-30T16:55:05.086316Z"
    }
   },
   "outputs": [
    {
     "name": "stdout",
     "output_type": "stream",
     "text": [
      "Original List: [1, 2, [30, 4]]\n",
      "Shallow Copy: [10, 2, [30, 4]]\n"
     ]
    }
   ],
   "source": [
    "import copy\n",
    "\n",
    "# Original list\n",
    "original_list = [1, 2, [3, 4]]\n",
    "\n",
    "# Perform shallow copy\n",
    "shallow_copy = copy.copy(original_list)\n",
    "\n",
    "# Modify the contents of the shallow copy\n",
    "shallow_copy[0] = 10\n",
    "shallow_copy[2][0] = 30\n",
    "\n",
    "# Print the original list and shallow copy\n",
    "print(\"Original List:\", original_list)\n",
    "print(\"Shallow Copy:\", shallow_copy)"
   ]
  },
  {
   "cell_type": "markdown",
   "source": [
    "# Deep Copy"
   ],
   "metadata": {
    "collapsed": false
   }
  },
  {
   "cell_type": "code",
   "execution_count": 2,
   "outputs": [
    {
     "name": "stdout",
     "output_type": "stream",
     "text": [
      "Original List: [1, 2, [3, 4]]\n",
      "Deep Copy: [10, 2, [30, 4]]\n"
     ]
    }
   ],
   "source": [
    "import copy\n",
    "\n",
    "# Original list\n",
    "original_list = [1, 2, [3, 4]]\n",
    "\n",
    "# Perform deep copy\n",
    "deep_copy = copy.deepcopy(original_list)\n",
    "\n",
    "# Modify the contents of the deep copy\n",
    "deep_copy[0] = 10\n",
    "deep_copy[2][0] = 30\n",
    "\n",
    "# Print the original list and deep copy\n",
    "print(\"Original List:\", original_list)\n",
    "print(\"Deep Copy:\", deep_copy)"
   ],
   "metadata": {
    "collapsed": false,
    "ExecuteTime": {
     "start_time": "2023-05-30T16:55:05.088619Z",
     "end_time": "2023-05-30T16:55:05.092694Z"
    }
   }
  }
 ],
 "metadata": {
  "kernelspec": {
   "display_name": "Python 3",
   "language": "python",
   "name": "python3"
  },
  "language_info": {
   "codemirror_mode": {
    "name": "ipython",
    "version": 2
   },
   "file_extension": ".py",
   "mimetype": "text/x-python",
   "name": "python",
   "nbconvert_exporter": "python",
   "pygments_lexer": "ipython2",
   "version": "2.7.6"
  }
 },
 "nbformat": 4,
 "nbformat_minor": 0
}
